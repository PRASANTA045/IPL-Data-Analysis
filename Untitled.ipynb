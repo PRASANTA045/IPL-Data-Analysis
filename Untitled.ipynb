{
 "cells": [
  {
   "cell_type": "code",
   "execution_count": 171,
   "id": "b4d045e4-c05a-4631-8c48-07d179df3f09",
   "metadata": {},
   "outputs": [],
   "source": [
    "## Import Libraries\n",
    "import numpy as np\n",
    "import pandas as pd\n",
    "import matplotlib.pyplot as plt\n",
    "import seaborn as sns\n",
    "import warnings\n",
    "warnings.filterwarnings('ignore')"
   ]
  },
  {
   "cell_type": "code",
   "execution_count": 172,
   "id": "60f527a6-6362-4700-8d46-ee5c316425f2",
   "metadata": {},
   "outputs": [],
   "source": [
    "## Load the data\n",
    "deliveries = pd.read_csv('deliveries.csv')\n",
    "\n",
    "matches = pd.read_csv('matches.csv')\n",
    "\n"
   ]
  },
  {
   "cell_type": "code",
   "execution_count": 173,
   "id": "082028c3-bf2e-437e-9f76-ca34224a2218",
   "metadata": {},
   "outputs": [
    {
     "data": {
      "text/html": [
       "<div>\n",
       "<style scoped>\n",
       "    .dataframe tbody tr th:only-of-type {\n",
       "        vertical-align: middle;\n",
       "    }\n",
       "\n",
       "    .dataframe tbody tr th {\n",
       "        vertical-align: top;\n",
       "    }\n",
       "\n",
       "    .dataframe thead th {\n",
       "        text-align: right;\n",
       "    }\n",
       "</style>\n",
       "<table border=\"1\" class=\"dataframe\">\n",
       "  <thead>\n",
       "    <tr style=\"text-align: right;\">\n",
       "      <th></th>\n",
       "      <th>match_id</th>\n",
       "      <th>inning</th>\n",
       "      <th>batting_team</th>\n",
       "      <th>bowling_team</th>\n",
       "      <th>over</th>\n",
       "      <th>ball</th>\n",
       "      <th>batter</th>\n",
       "      <th>bowler</th>\n",
       "      <th>non_striker</th>\n",
       "      <th>batsman_runs</th>\n",
       "      <th>extra_runs</th>\n",
       "      <th>total_runs</th>\n",
       "      <th>extras_type</th>\n",
       "      <th>is_wicket</th>\n",
       "      <th>player_dismissed</th>\n",
       "      <th>dismissal_kind</th>\n",
       "      <th>fielder</th>\n",
       "    </tr>\n",
       "  </thead>\n",
       "  <tbody>\n",
       "    <tr>\n",
       "      <th>0</th>\n",
       "      <td>335982</td>\n",
       "      <td>1</td>\n",
       "      <td>Kolkata Knight Riders</td>\n",
       "      <td>Royal Challengers Bangalore</td>\n",
       "      <td>0</td>\n",
       "      <td>1</td>\n",
       "      <td>SC Ganguly</td>\n",
       "      <td>P Kumar</td>\n",
       "      <td>BB McCullum</td>\n",
       "      <td>0</td>\n",
       "      <td>1</td>\n",
       "      <td>1</td>\n",
       "      <td>legbyes</td>\n",
       "      <td>0</td>\n",
       "      <td>NaN</td>\n",
       "      <td>NaN</td>\n",
       "      <td>NaN</td>\n",
       "    </tr>\n",
       "    <tr>\n",
       "      <th>1</th>\n",
       "      <td>335982</td>\n",
       "      <td>1</td>\n",
       "      <td>Kolkata Knight Riders</td>\n",
       "      <td>Royal Challengers Bangalore</td>\n",
       "      <td>0</td>\n",
       "      <td>2</td>\n",
       "      <td>BB McCullum</td>\n",
       "      <td>P Kumar</td>\n",
       "      <td>SC Ganguly</td>\n",
       "      <td>0</td>\n",
       "      <td>0</td>\n",
       "      <td>0</td>\n",
       "      <td>NaN</td>\n",
       "      <td>0</td>\n",
       "      <td>NaN</td>\n",
       "      <td>NaN</td>\n",
       "      <td>NaN</td>\n",
       "    </tr>\n",
       "    <tr>\n",
       "      <th>2</th>\n",
       "      <td>335982</td>\n",
       "      <td>1</td>\n",
       "      <td>Kolkata Knight Riders</td>\n",
       "      <td>Royal Challengers Bangalore</td>\n",
       "      <td>0</td>\n",
       "      <td>3</td>\n",
       "      <td>BB McCullum</td>\n",
       "      <td>P Kumar</td>\n",
       "      <td>SC Ganguly</td>\n",
       "      <td>0</td>\n",
       "      <td>1</td>\n",
       "      <td>1</td>\n",
       "      <td>wides</td>\n",
       "      <td>0</td>\n",
       "      <td>NaN</td>\n",
       "      <td>NaN</td>\n",
       "      <td>NaN</td>\n",
       "    </tr>\n",
       "    <tr>\n",
       "      <th>3</th>\n",
       "      <td>335982</td>\n",
       "      <td>1</td>\n",
       "      <td>Kolkata Knight Riders</td>\n",
       "      <td>Royal Challengers Bangalore</td>\n",
       "      <td>0</td>\n",
       "      <td>4</td>\n",
       "      <td>BB McCullum</td>\n",
       "      <td>P Kumar</td>\n",
       "      <td>SC Ganguly</td>\n",
       "      <td>0</td>\n",
       "      <td>0</td>\n",
       "      <td>0</td>\n",
       "      <td>NaN</td>\n",
       "      <td>0</td>\n",
       "      <td>NaN</td>\n",
       "      <td>NaN</td>\n",
       "      <td>NaN</td>\n",
       "    </tr>\n",
       "    <tr>\n",
       "      <th>4</th>\n",
       "      <td>335982</td>\n",
       "      <td>1</td>\n",
       "      <td>Kolkata Knight Riders</td>\n",
       "      <td>Royal Challengers Bangalore</td>\n",
       "      <td>0</td>\n",
       "      <td>5</td>\n",
       "      <td>BB McCullum</td>\n",
       "      <td>P Kumar</td>\n",
       "      <td>SC Ganguly</td>\n",
       "      <td>0</td>\n",
       "      <td>0</td>\n",
       "      <td>0</td>\n",
       "      <td>NaN</td>\n",
       "      <td>0</td>\n",
       "      <td>NaN</td>\n",
       "      <td>NaN</td>\n",
       "      <td>NaN</td>\n",
       "    </tr>\n",
       "  </tbody>\n",
       "</table>\n",
       "</div>"
      ],
      "text/plain": [
       "   match_id  inning           batting_team                 bowling_team  over  \\\n",
       "0    335982       1  Kolkata Knight Riders  Royal Challengers Bangalore     0   \n",
       "1    335982       1  Kolkata Knight Riders  Royal Challengers Bangalore     0   \n",
       "2    335982       1  Kolkata Knight Riders  Royal Challengers Bangalore     0   \n",
       "3    335982       1  Kolkata Knight Riders  Royal Challengers Bangalore     0   \n",
       "4    335982       1  Kolkata Knight Riders  Royal Challengers Bangalore     0   \n",
       "\n",
       "   ball       batter   bowler  non_striker  batsman_runs  extra_runs  \\\n",
       "0     1   SC Ganguly  P Kumar  BB McCullum             0           1   \n",
       "1     2  BB McCullum  P Kumar   SC Ganguly             0           0   \n",
       "2     3  BB McCullum  P Kumar   SC Ganguly             0           1   \n",
       "3     4  BB McCullum  P Kumar   SC Ganguly             0           0   \n",
       "4     5  BB McCullum  P Kumar   SC Ganguly             0           0   \n",
       "\n",
       "   total_runs extras_type  is_wicket player_dismissed dismissal_kind fielder  \n",
       "0           1     legbyes          0              NaN            NaN     NaN  \n",
       "1           0         NaN          0              NaN            NaN     NaN  \n",
       "2           1       wides          0              NaN            NaN     NaN  \n",
       "3           0         NaN          0              NaN            NaN     NaN  \n",
       "4           0         NaN          0              NaN            NaN     NaN  "
      ]
     },
     "execution_count": 173,
     "metadata": {},
     "output_type": "execute_result"
    }
   ],
   "source": [
    "deliveries.head()"
   ]
  },
  {
   "cell_type": "code",
   "execution_count": 174,
   "id": "4ea078c5-8abd-46aa-9c42-3e5370ef31d6",
   "metadata": {},
   "outputs": [],
   "source": [
    " deliveries.rename(columns={'match_id':'id'},inplace=True)"
   ]
  },
  {
   "cell_type": "code",
   "execution_count": 175,
   "id": "5953070e-42b9-4a7c-b7d4-59fc9b7bcef9",
   "metadata": {},
   "outputs": [
    {
     "data": {
      "text/html": [
       "<div>\n",
       "<style scoped>\n",
       "    .dataframe tbody tr th:only-of-type {\n",
       "        vertical-align: middle;\n",
       "    }\n",
       "\n",
       "    .dataframe tbody tr th {\n",
       "        vertical-align: top;\n",
       "    }\n",
       "\n",
       "    .dataframe thead th {\n",
       "        text-align: right;\n",
       "    }\n",
       "</style>\n",
       "<table border=\"1\" class=\"dataframe\">\n",
       "  <thead>\n",
       "    <tr style=\"text-align: right;\">\n",
       "      <th></th>\n",
       "      <th>id</th>\n",
       "      <th>season</th>\n",
       "      <th>city</th>\n",
       "      <th>date</th>\n",
       "      <th>match_type</th>\n",
       "      <th>player_of_match</th>\n",
       "      <th>venue</th>\n",
       "      <th>team1</th>\n",
       "      <th>team2</th>\n",
       "      <th>toss_winner</th>\n",
       "      <th>toss_decision</th>\n",
       "      <th>winner</th>\n",
       "      <th>result</th>\n",
       "      <th>result_margin</th>\n",
       "      <th>target_runs</th>\n",
       "      <th>target_overs</th>\n",
       "      <th>super_over</th>\n",
       "      <th>method</th>\n",
       "      <th>umpire1</th>\n",
       "      <th>umpire2</th>\n",
       "    </tr>\n",
       "  </thead>\n",
       "  <tbody>\n",
       "    <tr>\n",
       "      <th>0</th>\n",
       "      <td>335982</td>\n",
       "      <td>2007/08</td>\n",
       "      <td>Bangalore</td>\n",
       "      <td>2008-04-18</td>\n",
       "      <td>League</td>\n",
       "      <td>BB McCullum</td>\n",
       "      <td>M Chinnaswamy Stadium</td>\n",
       "      <td>Royal Challengers Bangalore</td>\n",
       "      <td>Kolkata Knight Riders</td>\n",
       "      <td>Royal Challengers Bangalore</td>\n",
       "      <td>field</td>\n",
       "      <td>Kolkata Knight Riders</td>\n",
       "      <td>runs</td>\n",
       "      <td>140.0</td>\n",
       "      <td>223.0</td>\n",
       "      <td>20.0</td>\n",
       "      <td>N</td>\n",
       "      <td>NaN</td>\n",
       "      <td>Asad Rauf</td>\n",
       "      <td>RE Koertzen</td>\n",
       "    </tr>\n",
       "    <tr>\n",
       "      <th>1</th>\n",
       "      <td>335983</td>\n",
       "      <td>2007/08</td>\n",
       "      <td>Chandigarh</td>\n",
       "      <td>2008-04-19</td>\n",
       "      <td>League</td>\n",
       "      <td>MEK Hussey</td>\n",
       "      <td>Punjab Cricket Association Stadium, Mohali</td>\n",
       "      <td>Kings XI Punjab</td>\n",
       "      <td>Chennai Super Kings</td>\n",
       "      <td>Chennai Super Kings</td>\n",
       "      <td>bat</td>\n",
       "      <td>Chennai Super Kings</td>\n",
       "      <td>runs</td>\n",
       "      <td>33.0</td>\n",
       "      <td>241.0</td>\n",
       "      <td>20.0</td>\n",
       "      <td>N</td>\n",
       "      <td>NaN</td>\n",
       "      <td>MR Benson</td>\n",
       "      <td>SL Shastri</td>\n",
       "    </tr>\n",
       "    <tr>\n",
       "      <th>2</th>\n",
       "      <td>335984</td>\n",
       "      <td>2007/08</td>\n",
       "      <td>Delhi</td>\n",
       "      <td>2008-04-19</td>\n",
       "      <td>League</td>\n",
       "      <td>MF Maharoof</td>\n",
       "      <td>Feroz Shah Kotla</td>\n",
       "      <td>Delhi Daredevils</td>\n",
       "      <td>Rajasthan Royals</td>\n",
       "      <td>Rajasthan Royals</td>\n",
       "      <td>bat</td>\n",
       "      <td>Delhi Daredevils</td>\n",
       "      <td>wickets</td>\n",
       "      <td>9.0</td>\n",
       "      <td>130.0</td>\n",
       "      <td>20.0</td>\n",
       "      <td>N</td>\n",
       "      <td>NaN</td>\n",
       "      <td>Aleem Dar</td>\n",
       "      <td>GA Pratapkumar</td>\n",
       "    </tr>\n",
       "    <tr>\n",
       "      <th>3</th>\n",
       "      <td>335985</td>\n",
       "      <td>2007/08</td>\n",
       "      <td>Mumbai</td>\n",
       "      <td>2008-04-20</td>\n",
       "      <td>League</td>\n",
       "      <td>MV Boucher</td>\n",
       "      <td>Wankhede Stadium</td>\n",
       "      <td>Mumbai Indians</td>\n",
       "      <td>Royal Challengers Bangalore</td>\n",
       "      <td>Mumbai Indians</td>\n",
       "      <td>bat</td>\n",
       "      <td>Royal Challengers Bangalore</td>\n",
       "      <td>wickets</td>\n",
       "      <td>5.0</td>\n",
       "      <td>166.0</td>\n",
       "      <td>20.0</td>\n",
       "      <td>N</td>\n",
       "      <td>NaN</td>\n",
       "      <td>SJ Davis</td>\n",
       "      <td>DJ Harper</td>\n",
       "    </tr>\n",
       "    <tr>\n",
       "      <th>4</th>\n",
       "      <td>335986</td>\n",
       "      <td>2007/08</td>\n",
       "      <td>Kolkata</td>\n",
       "      <td>2008-04-20</td>\n",
       "      <td>League</td>\n",
       "      <td>DJ Hussey</td>\n",
       "      <td>Eden Gardens</td>\n",
       "      <td>Kolkata Knight Riders</td>\n",
       "      <td>Deccan Chargers</td>\n",
       "      <td>Deccan Chargers</td>\n",
       "      <td>bat</td>\n",
       "      <td>Kolkata Knight Riders</td>\n",
       "      <td>wickets</td>\n",
       "      <td>5.0</td>\n",
       "      <td>111.0</td>\n",
       "      <td>20.0</td>\n",
       "      <td>N</td>\n",
       "      <td>NaN</td>\n",
       "      <td>BF Bowden</td>\n",
       "      <td>K Hariharan</td>\n",
       "    </tr>\n",
       "  </tbody>\n",
       "</table>\n",
       "</div>"
      ],
      "text/plain": [
       "       id   season        city        date match_type player_of_match  \\\n",
       "0  335982  2007/08   Bangalore  2008-04-18     League     BB McCullum   \n",
       "1  335983  2007/08  Chandigarh  2008-04-19     League      MEK Hussey   \n",
       "2  335984  2007/08       Delhi  2008-04-19     League     MF Maharoof   \n",
       "3  335985  2007/08      Mumbai  2008-04-20     League      MV Boucher   \n",
       "4  335986  2007/08     Kolkata  2008-04-20     League       DJ Hussey   \n",
       "\n",
       "                                        venue                        team1  \\\n",
       "0                       M Chinnaswamy Stadium  Royal Challengers Bangalore   \n",
       "1  Punjab Cricket Association Stadium, Mohali              Kings XI Punjab   \n",
       "2                            Feroz Shah Kotla             Delhi Daredevils   \n",
       "3                            Wankhede Stadium               Mumbai Indians   \n",
       "4                                Eden Gardens        Kolkata Knight Riders   \n",
       "\n",
       "                         team2                  toss_winner toss_decision  \\\n",
       "0        Kolkata Knight Riders  Royal Challengers Bangalore         field   \n",
       "1          Chennai Super Kings          Chennai Super Kings           bat   \n",
       "2             Rajasthan Royals             Rajasthan Royals           bat   \n",
       "3  Royal Challengers Bangalore               Mumbai Indians           bat   \n",
       "4              Deccan Chargers              Deccan Chargers           bat   \n",
       "\n",
       "                        winner   result  result_margin  target_runs  \\\n",
       "0        Kolkata Knight Riders     runs          140.0        223.0   \n",
       "1          Chennai Super Kings     runs           33.0        241.0   \n",
       "2             Delhi Daredevils  wickets            9.0        130.0   \n",
       "3  Royal Challengers Bangalore  wickets            5.0        166.0   \n",
       "4        Kolkata Knight Riders  wickets            5.0        111.0   \n",
       "\n",
       "   target_overs super_over method    umpire1         umpire2  \n",
       "0          20.0          N    NaN  Asad Rauf     RE Koertzen  \n",
       "1          20.0          N    NaN  MR Benson      SL Shastri  \n",
       "2          20.0          N    NaN  Aleem Dar  GA Pratapkumar  \n",
       "3          20.0          N    NaN   SJ Davis       DJ Harper  \n",
       "4          20.0          N    NaN  BF Bowden     K Hariharan  "
      ]
     },
     "execution_count": 175,
     "metadata": {},
     "output_type": "execute_result"
    }
   ],
   "source": [
    "matches.head()"
   ]
  },
  {
   "cell_type": "markdown",
   "id": "821a223d-0652-426b-8fd8-591640894b92",
   "metadata": {},
   "source": [
    "## Data Cleaning(deliveries table)"
   ]
  },
  {
   "cell_type": "code",
   "execution_count": 176,
   "id": "7f4f677b-ff8b-4f78-9784-277dc9776bf2",
   "metadata": {},
   "outputs": [
    {
     "name": "stdout",
     "output_type": "stream",
     "text": [
      "<class 'pandas.core.frame.DataFrame'>\n",
      "RangeIndex: 260920 entries, 0 to 260919\n",
      "Data columns (total 17 columns):\n",
      " #   Column            Non-Null Count   Dtype \n",
      "---  ------            --------------   ----- \n",
      " 0   id                260920 non-null  int64 \n",
      " 1   inning            260920 non-null  int64 \n",
      " 2   batting_team      260920 non-null  object\n",
      " 3   bowling_team      260920 non-null  object\n",
      " 4   over              260920 non-null  int64 \n",
      " 5   ball              260920 non-null  int64 \n",
      " 6   batter            260920 non-null  object\n",
      " 7   bowler            260920 non-null  object\n",
      " 8   non_striker       260920 non-null  object\n",
      " 9   batsman_runs      260920 non-null  int64 \n",
      " 10  extra_runs        260920 non-null  int64 \n",
      " 11  total_runs        260920 non-null  int64 \n",
      " 12  extras_type       14125 non-null   object\n",
      " 13  is_wicket         260920 non-null  int64 \n",
      " 14  player_dismissed  12950 non-null   object\n",
      " 15  dismissal_kind    12950 non-null   object\n",
      " 16  fielder           9354 non-null    object\n",
      "dtypes: int64(8), object(9)\n",
      "memory usage: 33.8+ MB\n"
     ]
    }
   ],
   "source": [
    "deliveries.info()"
   ]
  },
  {
   "cell_type": "code",
   "execution_count": 177,
   "id": "108d32af-f162-4c74-bca3-28776377ead7",
   "metadata": {},
   "outputs": [
    {
     "data": {
      "text/plain": [
       "id                       0\n",
       "inning                   0\n",
       "batting_team             0\n",
       "bowling_team             0\n",
       "over                     0\n",
       "ball                     0\n",
       "batter                   0\n",
       "bowler                   0\n",
       "non_striker              0\n",
       "batsman_runs             0\n",
       "extra_runs               0\n",
       "total_runs               0\n",
       "extras_type         246795\n",
       "is_wicket                0\n",
       "player_dismissed    247970\n",
       "dismissal_kind      247970\n",
       "fielder             251566\n",
       "dtype: int64"
      ]
     },
     "execution_count": 177,
     "metadata": {},
     "output_type": "execute_result"
    }
   ],
   "source": [
    "deliveries.isnull().sum()"
   ]
  },
  {
   "cell_type": "code",
   "execution_count": 178,
   "id": "a5e2b799-b80c-423f-9135-1beeea4f6152",
   "metadata": {},
   "outputs": [
    {
     "data": {
      "text/plain": [
       "id                       0\n",
       "inning                   0\n",
       "batting_team             0\n",
       "bowling_team             0\n",
       "over                     0\n",
       "ball                     0\n",
       "batter                   0\n",
       "bowler                   0\n",
       "non_striker              0\n",
       "batsman_runs             0\n",
       "extra_runs               0\n",
       "total_runs               0\n",
       "extras_type         246795\n",
       "is_wicket                0\n",
       "player_dismissed    247970\n",
       "dismissal_kind      247970\n",
       "fielder             251566\n",
       "dtype: int64"
      ]
     },
     "execution_count": 178,
     "metadata": {},
     "output_type": "execute_result"
    }
   ],
   "source": [
    "deliveries.isnull().sum()"
   ]
  },
  {
   "cell_type": "code",
   "execution_count": 179,
   "id": "821eccfe-04b4-41cb-976f-f2f5f8f56b1f",
   "metadata": {},
   "outputs": [
    {
     "data": {
      "text/plain": [
       "array(['legbyes', nan, 'wides', 'byes', 'noballs', 'penalty'],\n",
       "      dtype=object)"
      ]
     },
     "execution_count": 179,
     "metadata": {},
     "output_type": "execute_result"
    }
   ],
   "source": [
    "deliveries['extras_type'].unique()"
   ]
  },
  {
   "cell_type": "code",
   "execution_count": 180,
   "id": "1fbac330-4c78-47f3-9f05-e727d06526c0",
   "metadata": {},
   "outputs": [],
   "source": [
    "## Fill null values in extras_type column\n",
    "deliveries['extras_type']  = deliveries['extras_type'].fillna('defence')"
   ]
  },
  {
   "cell_type": "code",
   "execution_count": 181,
   "id": "9dc82e87-05f7-4eb4-b6a1-04c2d7d4b0fb",
   "metadata": {},
   "outputs": [
    {
     "data": {
      "text/plain": [
       "0"
      ]
     },
     "execution_count": 181,
     "metadata": {},
     "output_type": "execute_result"
    }
   ],
   "source": [
    "deliveries['extras_type'].isnull().sum()"
   ]
  },
  {
   "cell_type": "code",
   "execution_count": 182,
   "id": "ac8bb29a-950e-4657-b500-0910fd216304",
   "metadata": {},
   "outputs": [
    {
     "data": {
      "text/plain": [
       "247970"
      ]
     },
     "execution_count": 182,
     "metadata": {},
     "output_type": "execute_result"
    }
   ],
   "source": [
    "deliveries['player_dismissed'].isnull().sum()"
   ]
  },
  {
   "cell_type": "code",
   "execution_count": 183,
   "id": "97a047ea-8d63-4378-848b-122e4feffd08",
   "metadata": {},
   "outputs": [],
   "source": [
    "## Fill null values in player_dismissed column\n",
    "deliveries['player_dismissed'] = deliveries['player_dismissed'].fillna('no one')"
   ]
  },
  {
   "cell_type": "code",
   "execution_count": 184,
   "id": "5a595865-c14f-4790-b65f-10a77133bf70",
   "metadata": {},
   "outputs": [
    {
     "data": {
      "text/plain": [
       "0"
      ]
     },
     "execution_count": 184,
     "metadata": {},
     "output_type": "execute_result"
    }
   ],
   "source": [
    "deliveries['player_dismissed'].isnull().sum()"
   ]
  },
  {
   "cell_type": "code",
   "execution_count": 185,
   "id": "59505caa-dd50-42f8-b870-f36c8001f1a2",
   "metadata": {},
   "outputs": [
    {
     "data": {
      "text/plain": [
       "array([nan, 'caught', 'bowled', 'run out', 'lbw', 'retired hurt',\n",
       "       'stumped', 'caught and bowled', 'hit wicket',\n",
       "       'obstructing the field', 'retired out'], dtype=object)"
      ]
     },
     "execution_count": 185,
     "metadata": {},
     "output_type": "execute_result"
    }
   ],
   "source": [
    "deliveries['dismissal_kind'].unique()"
   ]
  },
  {
   "cell_type": "code",
   "execution_count": 186,
   "id": "63f60482-923f-4751-ac50-6d0d000ef647",
   "metadata": {},
   "outputs": [],
   "source": [
    "## Fill null values in dismissal_kind column\n",
    "\n",
    "deliveries['dismissal_kind']=deliveries['dismissal_kind'].fillna('not out')\n"
   ]
  },
  {
   "cell_type": "code",
   "execution_count": 187,
   "id": "34e3a583-95d2-4dcf-94aa-0010441d64ba",
   "metadata": {},
   "outputs": [
    {
     "data": {
      "text/plain": [
       "0"
      ]
     },
     "execution_count": 187,
     "metadata": {},
     "output_type": "execute_result"
    }
   ],
   "source": [
    "deliveries['dismissal_kind'].isnull().sum()"
   ]
  },
  {
   "cell_type": "code",
   "execution_count": 188,
   "id": "90784756-bc5b-4df4-a2c2-b2f21bb10242",
   "metadata": {},
   "outputs": [],
   "source": [
    "## Fill the null values in fielder column\n",
    "\n",
    "deliveries['fielder'] = deliveries['fielder'].fillna(deliveries['bowler'])"
   ]
  },
  {
   "cell_type": "code",
   "execution_count": 189,
   "id": "f35ffba1-dfdd-43a9-8954-a3582bd69c1c",
   "metadata": {},
   "outputs": [
    {
     "data": {
      "text/plain": [
       "0"
      ]
     },
     "execution_count": 189,
     "metadata": {},
     "output_type": "execute_result"
    }
   ],
   "source": [
    "deliveries['fielder'].isnull().sum()"
   ]
  },
  {
   "cell_type": "code",
   "execution_count": 190,
   "id": "7ac6219f-1cc6-43c2-a6bd-e1ba0a7525ca",
   "metadata": {},
   "outputs": [
    {
     "data": {
      "text/plain": [
       "id                  0\n",
       "inning              0\n",
       "batting_team        0\n",
       "bowling_team        0\n",
       "over                0\n",
       "ball                0\n",
       "batter              0\n",
       "bowler              0\n",
       "non_striker         0\n",
       "batsman_runs        0\n",
       "extra_runs          0\n",
       "total_runs          0\n",
       "extras_type         0\n",
       "is_wicket           0\n",
       "player_dismissed    0\n",
       "dismissal_kind      0\n",
       "fielder             0\n",
       "dtype: int64"
      ]
     },
     "execution_count": 190,
     "metadata": {},
     "output_type": "execute_result"
    }
   ],
   "source": [
    "deliveries.isnull().sum()"
   ]
  },
  {
   "cell_type": "markdown",
   "id": "bbb16c73-e7c0-4302-b9f5-067ec71aa16b",
   "metadata": {},
   "source": [
    "## Matches table"
   ]
  },
  {
   "cell_type": "code",
   "execution_count": 191,
   "id": "7e86f6e8-5f27-44f6-b47b-5fa64fbfba90",
   "metadata": {},
   "outputs": [
    {
     "data": {
      "text/plain": [
       "id                    0\n",
       "season                0\n",
       "city                 51\n",
       "date                  0\n",
       "match_type            0\n",
       "player_of_match       5\n",
       "venue                 0\n",
       "team1                 0\n",
       "team2                 0\n",
       "toss_winner           0\n",
       "toss_decision         0\n",
       "winner                5\n",
       "result                0\n",
       "result_margin        19\n",
       "target_runs           3\n",
       "target_overs          3\n",
       "super_over            0\n",
       "method             1074\n",
       "umpire1               0\n",
       "umpire2               0\n",
       "dtype: int64"
      ]
     },
     "execution_count": 191,
     "metadata": {},
     "output_type": "execute_result"
    }
   ],
   "source": [
    "matches.isnull().sum()"
   ]
  },
  {
   "cell_type": "code",
   "execution_count": 192,
   "id": "0e82e902-e81b-49ed-91ab-d7768fab0719",
   "metadata": {},
   "outputs": [
    {
     "data": {
      "text/plain": [
       "array(['Bangalore', 'Chandigarh', 'Delhi', 'Mumbai', 'Kolkata', 'Jaipur',\n",
       "       'Hyderabad', 'Chennai', 'Cape Town', 'Port Elizabeth', 'Durban',\n",
       "       'Centurion', 'East London', 'Johannesburg', 'Kimberley',\n",
       "       'Bloemfontein', 'Ahmedabad', 'Cuttack', 'Nagpur', 'Dharamsala',\n",
       "       'Kochi', 'Indore', 'Visakhapatnam', 'Pune', 'Raipur', 'Ranchi',\n",
       "       'Abu Dhabi', nan, 'Rajkot', 'Kanpur', 'Bengaluru', 'Dubai',\n",
       "       'Sharjah', 'Navi Mumbai', 'Lucknow', 'Guwahati', 'Mohali'],\n",
       "      dtype=object)"
      ]
     },
     "execution_count": 192,
     "metadata": {},
     "output_type": "execute_result"
    }
   ],
   "source": [
    "matches['city'].unique()"
   ]
  },
  {
   "cell_type": "code",
   "execution_count": 193,
   "id": "f137c750-342e-4845-a5ce-1e930cd09413",
   "metadata": {},
   "outputs": [],
   "source": [
    "## Fill the null values in city column\n",
    "\n",
    "matches['city'] = matches['city'].fillna(method='bfill')"
   ]
  },
  {
   "cell_type": "code",
   "execution_count": 194,
   "id": "9c7a3d86-f381-4f48-937f-77d2ad146c3a",
   "metadata": {},
   "outputs": [
    {
     "data": {
      "text/plain": [
       "0"
      ]
     },
     "execution_count": 194,
     "metadata": {},
     "output_type": "execute_result"
    }
   ],
   "source": [
    "matches['city'] .isnull().sum()"
   ]
  },
  {
   "cell_type": "code",
   "execution_count": 195,
   "id": "27877e67-db7a-4381-9a16-102a86602939",
   "metadata": {},
   "outputs": [],
   "source": [
    "## Fill the null values in player_of_match column\n",
    "\n",
    "matches['player_of_match'] = matches['player_of_match'].fillna('No one')"
   ]
  },
  {
   "cell_type": "code",
   "execution_count": 196,
   "id": "a206cd37-bd8b-4e90-a969-d950df4df593",
   "metadata": {},
   "outputs": [
    {
     "data": {
      "text/plain": [
       "0"
      ]
     },
     "execution_count": 196,
     "metadata": {},
     "output_type": "execute_result"
    }
   ],
   "source": [
    "matches['player_of_match'].isnull().sum()"
   ]
  },
  {
   "cell_type": "code",
   "execution_count": 197,
   "id": "b9a0770a-df10-4b62-9038-e7645370f289",
   "metadata": {},
   "outputs": [],
   "source": [
    "## Fill the null values in winner column\n",
    "\n",
    "matches['winner'] = matches['winner'].fillna('No Result')"
   ]
  },
  {
   "cell_type": "code",
   "execution_count": 198,
   "id": "65512083-a182-450e-b1c7-9f7a24849fd6",
   "metadata": {},
   "outputs": [
    {
     "data": {
      "text/plain": [
       "0"
      ]
     },
     "execution_count": 198,
     "metadata": {},
     "output_type": "execute_result"
    }
   ],
   "source": [
    "matches['winner'].isnull().sum()"
   ]
  },
  {
   "cell_type": "code",
   "execution_count": 199,
   "id": "d62e9760-c5b7-461b-838d-92e407f8ba7e",
   "metadata": {},
   "outputs": [
    {
     "data": {
      "text/html": [
       "<div>\n",
       "<style scoped>\n",
       "    .dataframe tbody tr th:only-of-type {\n",
       "        vertical-align: middle;\n",
       "    }\n",
       "\n",
       "    .dataframe tbody tr th {\n",
       "        vertical-align: top;\n",
       "    }\n",
       "\n",
       "    .dataframe thead th {\n",
       "        text-align: right;\n",
       "    }\n",
       "</style>\n",
       "<table border=\"1\" class=\"dataframe\">\n",
       "  <thead>\n",
       "    <tr style=\"text-align: right;\">\n",
       "      <th></th>\n",
       "      <th>id</th>\n",
       "      <th>inning</th>\n",
       "      <th>batting_team</th>\n",
       "      <th>bowling_team</th>\n",
       "      <th>over</th>\n",
       "      <th>ball</th>\n",
       "      <th>batter</th>\n",
       "      <th>bowler</th>\n",
       "      <th>non_striker</th>\n",
       "      <th>batsman_runs</th>\n",
       "      <th>extra_runs</th>\n",
       "      <th>total_runs</th>\n",
       "      <th>extras_type</th>\n",
       "      <th>is_wicket</th>\n",
       "      <th>player_dismissed</th>\n",
       "      <th>dismissal_kind</th>\n",
       "      <th>fielder</th>\n",
       "    </tr>\n",
       "  </thead>\n",
       "  <tbody>\n",
       "    <tr>\n",
       "      <th>0</th>\n",
       "      <td>335982</td>\n",
       "      <td>1</td>\n",
       "      <td>Kolkata Knight Riders</td>\n",
       "      <td>Royal Challengers Bangalore</td>\n",
       "      <td>0</td>\n",
       "      <td>1</td>\n",
       "      <td>SC Ganguly</td>\n",
       "      <td>P Kumar</td>\n",
       "      <td>BB McCullum</td>\n",
       "      <td>0</td>\n",
       "      <td>1</td>\n",
       "      <td>1</td>\n",
       "      <td>legbyes</td>\n",
       "      <td>0</td>\n",
       "      <td>no one</td>\n",
       "      <td>not out</td>\n",
       "      <td>P Kumar</td>\n",
       "    </tr>\n",
       "    <tr>\n",
       "      <th>1</th>\n",
       "      <td>335982</td>\n",
       "      <td>1</td>\n",
       "      <td>Kolkata Knight Riders</td>\n",
       "      <td>Royal Challengers Bangalore</td>\n",
       "      <td>0</td>\n",
       "      <td>2</td>\n",
       "      <td>BB McCullum</td>\n",
       "      <td>P Kumar</td>\n",
       "      <td>SC Ganguly</td>\n",
       "      <td>0</td>\n",
       "      <td>0</td>\n",
       "      <td>0</td>\n",
       "      <td>defence</td>\n",
       "      <td>0</td>\n",
       "      <td>no one</td>\n",
       "      <td>not out</td>\n",
       "      <td>P Kumar</td>\n",
       "    </tr>\n",
       "    <tr>\n",
       "      <th>2</th>\n",
       "      <td>335982</td>\n",
       "      <td>1</td>\n",
       "      <td>Kolkata Knight Riders</td>\n",
       "      <td>Royal Challengers Bangalore</td>\n",
       "      <td>0</td>\n",
       "      <td>3</td>\n",
       "      <td>BB McCullum</td>\n",
       "      <td>P Kumar</td>\n",
       "      <td>SC Ganguly</td>\n",
       "      <td>0</td>\n",
       "      <td>1</td>\n",
       "      <td>1</td>\n",
       "      <td>wides</td>\n",
       "      <td>0</td>\n",
       "      <td>no one</td>\n",
       "      <td>not out</td>\n",
       "      <td>P Kumar</td>\n",
       "    </tr>\n",
       "    <tr>\n",
       "      <th>3</th>\n",
       "      <td>335982</td>\n",
       "      <td>1</td>\n",
       "      <td>Kolkata Knight Riders</td>\n",
       "      <td>Royal Challengers Bangalore</td>\n",
       "      <td>0</td>\n",
       "      <td>4</td>\n",
       "      <td>BB McCullum</td>\n",
       "      <td>P Kumar</td>\n",
       "      <td>SC Ganguly</td>\n",
       "      <td>0</td>\n",
       "      <td>0</td>\n",
       "      <td>0</td>\n",
       "      <td>defence</td>\n",
       "      <td>0</td>\n",
       "      <td>no one</td>\n",
       "      <td>not out</td>\n",
       "      <td>P Kumar</td>\n",
       "    </tr>\n",
       "    <tr>\n",
       "      <th>4</th>\n",
       "      <td>335982</td>\n",
       "      <td>1</td>\n",
       "      <td>Kolkata Knight Riders</td>\n",
       "      <td>Royal Challengers Bangalore</td>\n",
       "      <td>0</td>\n",
       "      <td>5</td>\n",
       "      <td>BB McCullum</td>\n",
       "      <td>P Kumar</td>\n",
       "      <td>SC Ganguly</td>\n",
       "      <td>0</td>\n",
       "      <td>0</td>\n",
       "      <td>0</td>\n",
       "      <td>defence</td>\n",
       "      <td>0</td>\n",
       "      <td>no one</td>\n",
       "      <td>not out</td>\n",
       "      <td>P Kumar</td>\n",
       "    </tr>\n",
       "  </tbody>\n",
       "</table>\n",
       "</div>"
      ],
      "text/plain": [
       "       id  inning           batting_team                 bowling_team  over  \\\n",
       "0  335982       1  Kolkata Knight Riders  Royal Challengers Bangalore     0   \n",
       "1  335982       1  Kolkata Knight Riders  Royal Challengers Bangalore     0   \n",
       "2  335982       1  Kolkata Knight Riders  Royal Challengers Bangalore     0   \n",
       "3  335982       1  Kolkata Knight Riders  Royal Challengers Bangalore     0   \n",
       "4  335982       1  Kolkata Knight Riders  Royal Challengers Bangalore     0   \n",
       "\n",
       "   ball       batter   bowler  non_striker  batsman_runs  extra_runs  \\\n",
       "0     1   SC Ganguly  P Kumar  BB McCullum             0           1   \n",
       "1     2  BB McCullum  P Kumar   SC Ganguly             0           0   \n",
       "2     3  BB McCullum  P Kumar   SC Ganguly             0           1   \n",
       "3     4  BB McCullum  P Kumar   SC Ganguly             0           0   \n",
       "4     5  BB McCullum  P Kumar   SC Ganguly             0           0   \n",
       "\n",
       "   total_runs extras_type  is_wicket player_dismissed dismissal_kind  fielder  \n",
       "0           1     legbyes          0           no one        not out  P Kumar  \n",
       "1           0     defence          0           no one        not out  P Kumar  \n",
       "2           1       wides          0           no one        not out  P Kumar  \n",
       "3           0     defence          0           no one        not out  P Kumar  \n",
       "4           0     defence          0           no one        not out  P Kumar  "
      ]
     },
     "execution_count": 199,
     "metadata": {},
     "output_type": "execute_result"
    }
   ],
   "source": [
    "deliveries.head()"
   ]
  },
  {
   "cell_type": "code",
   "execution_count": 200,
   "id": "12a9dd94-90f9-4977-b618-399c8e20e510",
   "metadata": {},
   "outputs": [],
   "source": [
    "## Create team1_runs column in matches table"
   ]
  },
  {
   "cell_type": "code",
   "execution_count": 201,
   "id": "9aa84ae1-4ddd-48d4-bc2f-9cd694992454",
   "metadata": {},
   "outputs": [],
   "source": [
    "total_runs_per_match = deliveries.groupby(['id','inning'])['total_runs'].sum().reset_index()"
   ]
  },
  {
   "cell_type": "code",
   "execution_count": 202,
   "id": "b67268cd-f360-4432-843c-89e03b264c1f",
   "metadata": {},
   "outputs": [],
   "source": [
    "team1_runs = total_runs_per_match[total_runs_per_match['inning']==1][['id','total_runs']]"
   ]
  },
  {
   "cell_type": "code",
   "execution_count": 203,
   "id": "845a4665-0356-49b6-86e3-162883919bb7",
   "metadata": {},
   "outputs": [],
   "source": [
    "team2_runs = total_runs_per_match[total_runs_per_match['inning']==2][['id','total_runs']]"
   ]
  },
  {
   "cell_type": "code",
   "execution_count": 204,
   "id": "6b13185e-d7c5-4df7-99ad-20c0f9018063",
   "metadata": {},
   "outputs": [
    {
     "data": {
      "text/html": [
       "<div>\n",
       "<style scoped>\n",
       "    .dataframe tbody tr th:only-of-type {\n",
       "        vertical-align: middle;\n",
       "    }\n",
       "\n",
       "    .dataframe tbody tr th {\n",
       "        vertical-align: top;\n",
       "    }\n",
       "\n",
       "    .dataframe thead th {\n",
       "        text-align: right;\n",
       "    }\n",
       "</style>\n",
       "<table border=\"1\" class=\"dataframe\">\n",
       "  <thead>\n",
       "    <tr style=\"text-align: right;\">\n",
       "      <th></th>\n",
       "      <th>id</th>\n",
       "      <th>total_runs</th>\n",
       "    </tr>\n",
       "  </thead>\n",
       "  <tbody>\n",
       "    <tr>\n",
       "      <th>0</th>\n",
       "      <td>335982</td>\n",
       "      <td>222</td>\n",
       "    </tr>\n",
       "    <tr>\n",
       "      <th>2</th>\n",
       "      <td>335983</td>\n",
       "      <td>240</td>\n",
       "    </tr>\n",
       "    <tr>\n",
       "      <th>4</th>\n",
       "      <td>335984</td>\n",
       "      <td>129</td>\n",
       "    </tr>\n",
       "    <tr>\n",
       "      <th>6</th>\n",
       "      <td>335985</td>\n",
       "      <td>165</td>\n",
       "    </tr>\n",
       "    <tr>\n",
       "      <th>8</th>\n",
       "      <td>335986</td>\n",
       "      <td>110</td>\n",
       "    </tr>\n",
       "  </tbody>\n",
       "</table>\n",
       "</div>"
      ],
      "text/plain": [
       "       id  total_runs\n",
       "0  335982         222\n",
       "2  335983         240\n",
       "4  335984         129\n",
       "6  335985         165\n",
       "8  335986         110"
      ]
     },
     "execution_count": 204,
     "metadata": {},
     "output_type": "execute_result"
    }
   ],
   "source": [
    "team1_runs.head()"
   ]
  },
  {
   "cell_type": "code",
   "execution_count": 205,
   "id": "f7f1ea00-c1f1-4650-bbb4-d53546d0ecb7",
   "metadata": {},
   "outputs": [
    {
     "data": {
      "text/html": [
       "<div>\n",
       "<style scoped>\n",
       "    .dataframe tbody tr th:only-of-type {\n",
       "        vertical-align: middle;\n",
       "    }\n",
       "\n",
       "    .dataframe tbody tr th {\n",
       "        vertical-align: top;\n",
       "    }\n",
       "\n",
       "    .dataframe thead th {\n",
       "        text-align: right;\n",
       "    }\n",
       "</style>\n",
       "<table border=\"1\" class=\"dataframe\">\n",
       "  <thead>\n",
       "    <tr style=\"text-align: right;\">\n",
       "      <th></th>\n",
       "      <th>id</th>\n",
       "      <th>total_runs</th>\n",
       "    </tr>\n",
       "  </thead>\n",
       "  <tbody>\n",
       "    <tr>\n",
       "      <th>1</th>\n",
       "      <td>335982</td>\n",
       "      <td>82</td>\n",
       "    </tr>\n",
       "    <tr>\n",
       "      <th>3</th>\n",
       "      <td>335983</td>\n",
       "      <td>207</td>\n",
       "    </tr>\n",
       "    <tr>\n",
       "      <th>5</th>\n",
       "      <td>335984</td>\n",
       "      <td>132</td>\n",
       "    </tr>\n",
       "    <tr>\n",
       "      <th>7</th>\n",
       "      <td>335985</td>\n",
       "      <td>166</td>\n",
       "    </tr>\n",
       "    <tr>\n",
       "      <th>9</th>\n",
       "      <td>335986</td>\n",
       "      <td>112</td>\n",
       "    </tr>\n",
       "  </tbody>\n",
       "</table>\n",
       "</div>"
      ],
      "text/plain": [
       "       id  total_runs\n",
       "1  335982          82\n",
       "3  335983         207\n",
       "5  335984         132\n",
       "7  335985         166\n",
       "9  335986         112"
      ]
     },
     "execution_count": 205,
     "metadata": {},
     "output_type": "execute_result"
    }
   ],
   "source": [
    "team2_runs.head()"
   ]
  },
  {
   "cell_type": "code",
   "execution_count": 206,
   "id": "bafe40d0-d05e-43f0-87a2-fad12df30af0",
   "metadata": {},
   "outputs": [],
   "source": [
    "team1_runs.rename(columns={'total_runs':'team1_runs'},inplace= True)"
   ]
  },
  {
   "cell_type": "code",
   "execution_count": 207,
   "id": "b06e3af0-cd96-49c0-8373-b2381fcb25b2",
   "metadata": {},
   "outputs": [],
   "source": [
    "team2_runs.rename(columns={'total_runs':'team2_runs'},inplace = True)"
   ]
  },
  {
   "cell_type": "code",
   "execution_count": 208,
   "id": "d1a31875-c318-48de-b4ec-8bc62056857d",
   "metadata": {},
   "outputs": [
    {
     "data": {
      "text/html": [
       "<div>\n",
       "<style scoped>\n",
       "    .dataframe tbody tr th:only-of-type {\n",
       "        vertical-align: middle;\n",
       "    }\n",
       "\n",
       "    .dataframe tbody tr th {\n",
       "        vertical-align: top;\n",
       "    }\n",
       "\n",
       "    .dataframe thead th {\n",
       "        text-align: right;\n",
       "    }\n",
       "</style>\n",
       "<table border=\"1\" class=\"dataframe\">\n",
       "  <thead>\n",
       "    <tr style=\"text-align: right;\">\n",
       "      <th></th>\n",
       "      <th>id</th>\n",
       "      <th>team1_runs</th>\n",
       "    </tr>\n",
       "  </thead>\n",
       "  <tbody>\n",
       "    <tr>\n",
       "      <th>0</th>\n",
       "      <td>335982</td>\n",
       "      <td>222</td>\n",
       "    </tr>\n",
       "    <tr>\n",
       "      <th>2</th>\n",
       "      <td>335983</td>\n",
       "      <td>240</td>\n",
       "    </tr>\n",
       "    <tr>\n",
       "      <th>4</th>\n",
       "      <td>335984</td>\n",
       "      <td>129</td>\n",
       "    </tr>\n",
       "    <tr>\n",
       "      <th>6</th>\n",
       "      <td>335985</td>\n",
       "      <td>165</td>\n",
       "    </tr>\n",
       "    <tr>\n",
       "      <th>8</th>\n",
       "      <td>335986</td>\n",
       "      <td>110</td>\n",
       "    </tr>\n",
       "  </tbody>\n",
       "</table>\n",
       "</div>"
      ],
      "text/plain": [
       "       id  team1_runs\n",
       "0  335982         222\n",
       "2  335983         240\n",
       "4  335984         129\n",
       "6  335985         165\n",
       "8  335986         110"
      ]
     },
     "execution_count": 208,
     "metadata": {},
     "output_type": "execute_result"
    }
   ],
   "source": [
    "team1_runs.head()"
   ]
  },
  {
   "cell_type": "code",
   "execution_count": 209,
   "id": "75909f9e-8f06-4ab3-9bc8-b6812c4360ef",
   "metadata": {},
   "outputs": [
    {
     "data": {
      "text/plain": [
       "id            0\n",
       "team1_runs    0\n",
       "dtype: int64"
      ]
     },
     "execution_count": 209,
     "metadata": {},
     "output_type": "execute_result"
    }
   ],
   "source": [
    "team1_runs.isnull().sum()"
   ]
  },
  {
   "cell_type": "code",
   "execution_count": 210,
   "id": "0474eb54-7808-4324-a04a-819f1b3d9218",
   "metadata": {},
   "outputs": [
    {
     "data": {
      "text/plain": [
       "id            0\n",
       "team2_runs    0\n",
       "dtype: int64"
      ]
     },
     "execution_count": 210,
     "metadata": {},
     "output_type": "execute_result"
    }
   ],
   "source": [
    "team2_runs.isnull().sum()"
   ]
  },
  {
   "cell_type": "code",
   "execution_count": 211,
   "id": "ccf5b0dd-3880-4674-81c7-57e25168d5b6",
   "metadata": {},
   "outputs": [
    {
     "data": {
      "text/html": [
       "<div>\n",
       "<style scoped>\n",
       "    .dataframe tbody tr th:only-of-type {\n",
       "        vertical-align: middle;\n",
       "    }\n",
       "\n",
       "    .dataframe tbody tr th {\n",
       "        vertical-align: top;\n",
       "    }\n",
       "\n",
       "    .dataframe thead th {\n",
       "        text-align: right;\n",
       "    }\n",
       "</style>\n",
       "<table border=\"1\" class=\"dataframe\">\n",
       "  <thead>\n",
       "    <tr style=\"text-align: right;\">\n",
       "      <th></th>\n",
       "      <th>id</th>\n",
       "      <th>team2_runs</th>\n",
       "    </tr>\n",
       "  </thead>\n",
       "  <tbody>\n",
       "    <tr>\n",
       "      <th>1</th>\n",
       "      <td>335982</td>\n",
       "      <td>82</td>\n",
       "    </tr>\n",
       "    <tr>\n",
       "      <th>3</th>\n",
       "      <td>335983</td>\n",
       "      <td>207</td>\n",
       "    </tr>\n",
       "    <tr>\n",
       "      <th>5</th>\n",
       "      <td>335984</td>\n",
       "      <td>132</td>\n",
       "    </tr>\n",
       "    <tr>\n",
       "      <th>7</th>\n",
       "      <td>335985</td>\n",
       "      <td>166</td>\n",
       "    </tr>\n",
       "    <tr>\n",
       "      <th>9</th>\n",
       "      <td>335986</td>\n",
       "      <td>112</td>\n",
       "    </tr>\n",
       "  </tbody>\n",
       "</table>\n",
       "</div>"
      ],
      "text/plain": [
       "       id  team2_runs\n",
       "1  335982          82\n",
       "3  335983         207\n",
       "5  335984         132\n",
       "7  335985         166\n",
       "9  335986         112"
      ]
     },
     "execution_count": 211,
     "metadata": {},
     "output_type": "execute_result"
    }
   ],
   "source": [
    "team2_runs.head()"
   ]
  },
  {
   "cell_type": "code",
   "execution_count": 212,
   "id": "981e2088-b29c-405b-aab8-6abf4626f2b5",
   "metadata": {},
   "outputs": [],
   "source": [
    "matches = pd.merge(matches,team1_runs,on = 'id', how = 'left')"
   ]
  },
  {
   "cell_type": "code",
   "execution_count": 213,
   "id": "e3c93f0e-6ebe-4462-9d9f-3090ef06e6d3",
   "metadata": {},
   "outputs": [],
   "source": [
    "matches = pd.merge(matches,team2_runs,on='id',how='left')"
   ]
  },
  {
   "cell_type": "code",
   "execution_count": 214,
   "id": "83f3f9cb-a4f0-489f-b262-745ef5b90d06",
   "metadata": {},
   "outputs": [
    {
     "data": {
      "text/html": [
       "<div>\n",
       "<style scoped>\n",
       "    .dataframe tbody tr th:only-of-type {\n",
       "        vertical-align: middle;\n",
       "    }\n",
       "\n",
       "    .dataframe tbody tr th {\n",
       "        vertical-align: top;\n",
       "    }\n",
       "\n",
       "    .dataframe thead th {\n",
       "        text-align: right;\n",
       "    }\n",
       "</style>\n",
       "<table border=\"1\" class=\"dataframe\">\n",
       "  <thead>\n",
       "    <tr style=\"text-align: right;\">\n",
       "      <th></th>\n",
       "      <th>id</th>\n",
       "      <th>season</th>\n",
       "      <th>city</th>\n",
       "      <th>date</th>\n",
       "      <th>match_type</th>\n",
       "      <th>player_of_match</th>\n",
       "      <th>venue</th>\n",
       "      <th>team1</th>\n",
       "      <th>team2</th>\n",
       "      <th>toss_winner</th>\n",
       "      <th>...</th>\n",
       "      <th>result</th>\n",
       "      <th>result_margin</th>\n",
       "      <th>target_runs</th>\n",
       "      <th>target_overs</th>\n",
       "      <th>super_over</th>\n",
       "      <th>method</th>\n",
       "      <th>umpire1</th>\n",
       "      <th>umpire2</th>\n",
       "      <th>team1_runs</th>\n",
       "      <th>team2_runs</th>\n",
       "    </tr>\n",
       "  </thead>\n",
       "  <tbody>\n",
       "    <tr>\n",
       "      <th>0</th>\n",
       "      <td>335982</td>\n",
       "      <td>2007/08</td>\n",
       "      <td>Bangalore</td>\n",
       "      <td>2008-04-18</td>\n",
       "      <td>League</td>\n",
       "      <td>BB McCullum</td>\n",
       "      <td>M Chinnaswamy Stadium</td>\n",
       "      <td>Royal Challengers Bangalore</td>\n",
       "      <td>Kolkata Knight Riders</td>\n",
       "      <td>Royal Challengers Bangalore</td>\n",
       "      <td>...</td>\n",
       "      <td>runs</td>\n",
       "      <td>140.0</td>\n",
       "      <td>223.0</td>\n",
       "      <td>20.0</td>\n",
       "      <td>N</td>\n",
       "      <td>NaN</td>\n",
       "      <td>Asad Rauf</td>\n",
       "      <td>RE Koertzen</td>\n",
       "      <td>222</td>\n",
       "      <td>82.0</td>\n",
       "    </tr>\n",
       "    <tr>\n",
       "      <th>1</th>\n",
       "      <td>335983</td>\n",
       "      <td>2007/08</td>\n",
       "      <td>Chandigarh</td>\n",
       "      <td>2008-04-19</td>\n",
       "      <td>League</td>\n",
       "      <td>MEK Hussey</td>\n",
       "      <td>Punjab Cricket Association Stadium, Mohali</td>\n",
       "      <td>Kings XI Punjab</td>\n",
       "      <td>Chennai Super Kings</td>\n",
       "      <td>Chennai Super Kings</td>\n",
       "      <td>...</td>\n",
       "      <td>runs</td>\n",
       "      <td>33.0</td>\n",
       "      <td>241.0</td>\n",
       "      <td>20.0</td>\n",
       "      <td>N</td>\n",
       "      <td>NaN</td>\n",
       "      <td>MR Benson</td>\n",
       "      <td>SL Shastri</td>\n",
       "      <td>240</td>\n",
       "      <td>207.0</td>\n",
       "    </tr>\n",
       "    <tr>\n",
       "      <th>2</th>\n",
       "      <td>335984</td>\n",
       "      <td>2007/08</td>\n",
       "      <td>Delhi</td>\n",
       "      <td>2008-04-19</td>\n",
       "      <td>League</td>\n",
       "      <td>MF Maharoof</td>\n",
       "      <td>Feroz Shah Kotla</td>\n",
       "      <td>Delhi Daredevils</td>\n",
       "      <td>Rajasthan Royals</td>\n",
       "      <td>Rajasthan Royals</td>\n",
       "      <td>...</td>\n",
       "      <td>wickets</td>\n",
       "      <td>9.0</td>\n",
       "      <td>130.0</td>\n",
       "      <td>20.0</td>\n",
       "      <td>N</td>\n",
       "      <td>NaN</td>\n",
       "      <td>Aleem Dar</td>\n",
       "      <td>GA Pratapkumar</td>\n",
       "      <td>129</td>\n",
       "      <td>132.0</td>\n",
       "    </tr>\n",
       "    <tr>\n",
       "      <th>3</th>\n",
       "      <td>335985</td>\n",
       "      <td>2007/08</td>\n",
       "      <td>Mumbai</td>\n",
       "      <td>2008-04-20</td>\n",
       "      <td>League</td>\n",
       "      <td>MV Boucher</td>\n",
       "      <td>Wankhede Stadium</td>\n",
       "      <td>Mumbai Indians</td>\n",
       "      <td>Royal Challengers Bangalore</td>\n",
       "      <td>Mumbai Indians</td>\n",
       "      <td>...</td>\n",
       "      <td>wickets</td>\n",
       "      <td>5.0</td>\n",
       "      <td>166.0</td>\n",
       "      <td>20.0</td>\n",
       "      <td>N</td>\n",
       "      <td>NaN</td>\n",
       "      <td>SJ Davis</td>\n",
       "      <td>DJ Harper</td>\n",
       "      <td>165</td>\n",
       "      <td>166.0</td>\n",
       "    </tr>\n",
       "    <tr>\n",
       "      <th>4</th>\n",
       "      <td>335986</td>\n",
       "      <td>2007/08</td>\n",
       "      <td>Kolkata</td>\n",
       "      <td>2008-04-20</td>\n",
       "      <td>League</td>\n",
       "      <td>DJ Hussey</td>\n",
       "      <td>Eden Gardens</td>\n",
       "      <td>Kolkata Knight Riders</td>\n",
       "      <td>Deccan Chargers</td>\n",
       "      <td>Deccan Chargers</td>\n",
       "      <td>...</td>\n",
       "      <td>wickets</td>\n",
       "      <td>5.0</td>\n",
       "      <td>111.0</td>\n",
       "      <td>20.0</td>\n",
       "      <td>N</td>\n",
       "      <td>NaN</td>\n",
       "      <td>BF Bowden</td>\n",
       "      <td>K Hariharan</td>\n",
       "      <td>110</td>\n",
       "      <td>112.0</td>\n",
       "    </tr>\n",
       "  </tbody>\n",
       "</table>\n",
       "<p>5 rows × 22 columns</p>\n",
       "</div>"
      ],
      "text/plain": [
       "       id   season        city        date match_type player_of_match  \\\n",
       "0  335982  2007/08   Bangalore  2008-04-18     League     BB McCullum   \n",
       "1  335983  2007/08  Chandigarh  2008-04-19     League      MEK Hussey   \n",
       "2  335984  2007/08       Delhi  2008-04-19     League     MF Maharoof   \n",
       "3  335985  2007/08      Mumbai  2008-04-20     League      MV Boucher   \n",
       "4  335986  2007/08     Kolkata  2008-04-20     League       DJ Hussey   \n",
       "\n",
       "                                        venue                        team1  \\\n",
       "0                       M Chinnaswamy Stadium  Royal Challengers Bangalore   \n",
       "1  Punjab Cricket Association Stadium, Mohali              Kings XI Punjab   \n",
       "2                            Feroz Shah Kotla             Delhi Daredevils   \n",
       "3                            Wankhede Stadium               Mumbai Indians   \n",
       "4                                Eden Gardens        Kolkata Knight Riders   \n",
       "\n",
       "                         team2                  toss_winner  ...   result  \\\n",
       "0        Kolkata Knight Riders  Royal Challengers Bangalore  ...     runs   \n",
       "1          Chennai Super Kings          Chennai Super Kings  ...     runs   \n",
       "2             Rajasthan Royals             Rajasthan Royals  ...  wickets   \n",
       "3  Royal Challengers Bangalore               Mumbai Indians  ...  wickets   \n",
       "4              Deccan Chargers              Deccan Chargers  ...  wickets   \n",
       "\n",
       "  result_margin target_runs  target_overs  super_over  method    umpire1  \\\n",
       "0         140.0       223.0          20.0           N     NaN  Asad Rauf   \n",
       "1          33.0       241.0          20.0           N     NaN  MR Benson   \n",
       "2           9.0       130.0          20.0           N     NaN  Aleem Dar   \n",
       "3           5.0       166.0          20.0           N     NaN   SJ Davis   \n",
       "4           5.0       111.0          20.0           N     NaN  BF Bowden   \n",
       "\n",
       "          umpire2 team1_runs team2_runs  \n",
       "0     RE Koertzen        222       82.0  \n",
       "1      SL Shastri        240      207.0  \n",
       "2  GA Pratapkumar        129      132.0  \n",
       "3       DJ Harper        165      166.0  \n",
       "4     K Hariharan        110      112.0  \n",
       "\n",
       "[5 rows x 22 columns]"
      ]
     },
     "execution_count": 214,
     "metadata": {},
     "output_type": "execute_result"
    }
   ],
   "source": [
    "matches.head()"
   ]
  },
  {
   "cell_type": "code",
   "execution_count": 215,
   "id": "752a7bd2-dfb8-4770-a125-8209a289fe63",
   "metadata": {},
   "outputs": [],
   "source": [
    "matches['result_margin'] = np.nan"
   ]
  },
  {
   "cell_type": "code",
   "execution_count": 216,
   "id": "6a84e18c-bebf-4539-9c94-5bc83f799f72",
   "metadata": {},
   "outputs": [
    {
     "data": {
      "text/html": [
       "<div>\n",
       "<style scoped>\n",
       "    .dataframe tbody tr th:only-of-type {\n",
       "        vertical-align: middle;\n",
       "    }\n",
       "\n",
       "    .dataframe tbody tr th {\n",
       "        vertical-align: top;\n",
       "    }\n",
       "\n",
       "    .dataframe thead th {\n",
       "        text-align: right;\n",
       "    }\n",
       "</style>\n",
       "<table border=\"1\" class=\"dataframe\">\n",
       "  <thead>\n",
       "    <tr style=\"text-align: right;\">\n",
       "      <th></th>\n",
       "      <th>id</th>\n",
       "      <th>season</th>\n",
       "      <th>city</th>\n",
       "      <th>date</th>\n",
       "      <th>match_type</th>\n",
       "      <th>player_of_match</th>\n",
       "      <th>venue</th>\n",
       "      <th>team1</th>\n",
       "      <th>team2</th>\n",
       "      <th>toss_winner</th>\n",
       "      <th>...</th>\n",
       "      <th>result</th>\n",
       "      <th>result_margin</th>\n",
       "      <th>target_runs</th>\n",
       "      <th>target_overs</th>\n",
       "      <th>super_over</th>\n",
       "      <th>method</th>\n",
       "      <th>umpire1</th>\n",
       "      <th>umpire2</th>\n",
       "      <th>team1_runs</th>\n",
       "      <th>team2_runs</th>\n",
       "    </tr>\n",
       "  </thead>\n",
       "  <tbody>\n",
       "    <tr>\n",
       "      <th>0</th>\n",
       "      <td>335982</td>\n",
       "      <td>2007/08</td>\n",
       "      <td>Bangalore</td>\n",
       "      <td>2008-04-18</td>\n",
       "      <td>League</td>\n",
       "      <td>BB McCullum</td>\n",
       "      <td>M Chinnaswamy Stadium</td>\n",
       "      <td>Royal Challengers Bangalore</td>\n",
       "      <td>Kolkata Knight Riders</td>\n",
       "      <td>Royal Challengers Bangalore</td>\n",
       "      <td>...</td>\n",
       "      <td>runs</td>\n",
       "      <td>NaN</td>\n",
       "      <td>223.0</td>\n",
       "      <td>20.0</td>\n",
       "      <td>N</td>\n",
       "      <td>NaN</td>\n",
       "      <td>Asad Rauf</td>\n",
       "      <td>RE Koertzen</td>\n",
       "      <td>222</td>\n",
       "      <td>82.0</td>\n",
       "    </tr>\n",
       "    <tr>\n",
       "      <th>1</th>\n",
       "      <td>335983</td>\n",
       "      <td>2007/08</td>\n",
       "      <td>Chandigarh</td>\n",
       "      <td>2008-04-19</td>\n",
       "      <td>League</td>\n",
       "      <td>MEK Hussey</td>\n",
       "      <td>Punjab Cricket Association Stadium, Mohali</td>\n",
       "      <td>Kings XI Punjab</td>\n",
       "      <td>Chennai Super Kings</td>\n",
       "      <td>Chennai Super Kings</td>\n",
       "      <td>...</td>\n",
       "      <td>runs</td>\n",
       "      <td>NaN</td>\n",
       "      <td>241.0</td>\n",
       "      <td>20.0</td>\n",
       "      <td>N</td>\n",
       "      <td>NaN</td>\n",
       "      <td>MR Benson</td>\n",
       "      <td>SL Shastri</td>\n",
       "      <td>240</td>\n",
       "      <td>207.0</td>\n",
       "    </tr>\n",
       "  </tbody>\n",
       "</table>\n",
       "<p>2 rows × 22 columns</p>\n",
       "</div>"
      ],
      "text/plain": [
       "       id   season        city        date match_type player_of_match  \\\n",
       "0  335982  2007/08   Bangalore  2008-04-18     League     BB McCullum   \n",
       "1  335983  2007/08  Chandigarh  2008-04-19     League      MEK Hussey   \n",
       "\n",
       "                                        venue                        team1  \\\n",
       "0                       M Chinnaswamy Stadium  Royal Challengers Bangalore   \n",
       "1  Punjab Cricket Association Stadium, Mohali              Kings XI Punjab   \n",
       "\n",
       "                   team2                  toss_winner  ... result  \\\n",
       "0  Kolkata Knight Riders  Royal Challengers Bangalore  ...   runs   \n",
       "1    Chennai Super Kings          Chennai Super Kings  ...   runs   \n",
       "\n",
       "  result_margin target_runs  target_overs  super_over  method    umpire1  \\\n",
       "0           NaN       223.0          20.0           N     NaN  Asad Rauf   \n",
       "1           NaN       241.0          20.0           N     NaN  MR Benson   \n",
       "\n",
       "       umpire2 team1_runs team2_runs  \n",
       "0  RE Koertzen        222       82.0  \n",
       "1   SL Shastri        240      207.0  \n",
       "\n",
       "[2 rows x 22 columns]"
      ]
     },
     "execution_count": 216,
     "metadata": {},
     "output_type": "execute_result"
    }
   ],
   "source": [
    "matches.head(2)"
   ]
  },
  {
   "cell_type": "code",
   "execution_count": 217,
   "id": "01f4acfe-af4c-4b79-b137-162ba5dd5810",
   "metadata": {},
   "outputs": [
    {
     "data": {
      "text/plain": [
       "0"
      ]
     },
     "execution_count": 217,
     "metadata": {},
     "output_type": "execute_result"
    }
   ],
   "source": [
    "matches['id'].duplicated().sum()"
   ]
  },
  {
   "cell_type": "code",
   "execution_count": 218,
   "id": "1dd8c23f-6b70-4253-bdec-3f67efdb0daa",
   "metadata": {},
   "outputs": [
    {
     "data": {
      "text/plain": [
       "0"
      ]
     },
     "execution_count": 218,
     "metadata": {},
     "output_type": "execute_result"
    }
   ],
   "source": [
    "team2_runs['id'].duplicated().sum()"
   ]
  },
  {
   "cell_type": "code",
   "execution_count": 219,
   "id": "5b10584f-e26a-463d-8cbd-bca0bf36ddb1",
   "metadata": {},
   "outputs": [
    {
     "data": {
      "text/plain": [
       "0"
      ]
     },
     "execution_count": 219,
     "metadata": {},
     "output_type": "execute_result"
    }
   ],
   "source": [
    "team2_runs['team2_runs'].isnull().sum()"
   ]
  },
  {
   "cell_type": "code",
   "execution_count": 220,
   "id": "ed4900f9-8b59-4737-98c9-023c74dd87e5",
   "metadata": {},
   "outputs": [
    {
     "data": {
      "text/plain": [
       "1092"
      ]
     },
     "execution_count": 220,
     "metadata": {},
     "output_type": "execute_result"
    }
   ],
   "source": [
    "len(team2_runs)"
   ]
  },
  {
   "cell_type": "code",
   "execution_count": 221,
   "id": "f7787e56-1a23-454f-9b40-e7fbe9217bc6",
   "metadata": {},
   "outputs": [],
   "source": [
    "matches['result_margin'] = matches['team1_runs'] - matches['team2_runs']"
   ]
  },
  {
   "cell_type": "code",
   "execution_count": 222,
   "id": "616b0fb9-08e6-4e20-8f7b-49a61b4b8572",
   "metadata": {},
   "outputs": [
    {
     "data": {
      "text/plain": [
       "3"
      ]
     },
     "execution_count": 222,
     "metadata": {},
     "output_type": "execute_result"
    }
   ],
   "source": [
    "matches['result_margin'].isnull().sum()"
   ]
  },
  {
   "cell_type": "code",
   "execution_count": 223,
   "id": "1f128fb5-9c24-4124-b207-fc45a5db0efb",
   "metadata": {},
   "outputs": [],
   "source": [
    "matches['result_margin'] = matches['result_margin'].fillna(0)"
   ]
  },
  {
   "cell_type": "code",
   "execution_count": 224,
   "id": "d14036ec-da12-4087-aa73-bb15a1ca122b",
   "metadata": {},
   "outputs": [
    {
     "data": {
      "text/plain": [
       "0"
      ]
     },
     "execution_count": 224,
     "metadata": {},
     "output_type": "execute_result"
    }
   ],
   "source": [
    "matches['result_margin'].isnull().sum()"
   ]
  },
  {
   "cell_type": "code",
   "execution_count": 225,
   "id": "eaef5cd2-a964-468f-9895-82c91714cfd7",
   "metadata": {},
   "outputs": [],
   "source": [
    "matches['team2_runs'] = matches['team2_runs'].fillna(0)"
   ]
  },
  {
   "cell_type": "code",
   "execution_count": 226,
   "id": "956c7a27-ec5e-4086-8a6e-6602a3a9358c",
   "metadata": {},
   "outputs": [
    {
     "data": {
      "text/plain": [
       "0"
      ]
     },
     "execution_count": 226,
     "metadata": {},
     "output_type": "execute_result"
    }
   ],
   "source": [
    "matches['team2_runs'].isnull().sum()"
   ]
  },
  {
   "cell_type": "code",
   "execution_count": 227,
   "id": "c1f1a74f-94b1-4681-98d9-ad6cd0d10987",
   "metadata": {},
   "outputs": [
    {
     "data": {
      "text/plain": [
       "dtype('float64')"
      ]
     },
     "execution_count": 227,
     "metadata": {},
     "output_type": "execute_result"
    }
   ],
   "source": [
    "matches['team2_runs'].dtype"
   ]
  },
  {
   "cell_type": "code",
   "execution_count": 228,
   "id": "d9eaea5b-8d6a-43bf-a032-159cfd1b2d68",
   "metadata": {},
   "outputs": [],
   "source": [
    "matches['team2_runs'] = matches['team2_runs'].astype(int)"
   ]
  },
  {
   "cell_type": "code",
   "execution_count": 229,
   "id": "74cdc740-417f-46e8-b2c0-ee92d6cc8684",
   "metadata": {},
   "outputs": [
    {
     "data": {
      "text/html": [
       "<div>\n",
       "<style scoped>\n",
       "    .dataframe tbody tr th:only-of-type {\n",
       "        vertical-align: middle;\n",
       "    }\n",
       "\n",
       "    .dataframe tbody tr th {\n",
       "        vertical-align: top;\n",
       "    }\n",
       "\n",
       "    .dataframe thead th {\n",
       "        text-align: right;\n",
       "    }\n",
       "</style>\n",
       "<table border=\"1\" class=\"dataframe\">\n",
       "  <thead>\n",
       "    <tr style=\"text-align: right;\">\n",
       "      <th></th>\n",
       "      <th>id</th>\n",
       "      <th>season</th>\n",
       "      <th>city</th>\n",
       "      <th>date</th>\n",
       "      <th>match_type</th>\n",
       "      <th>player_of_match</th>\n",
       "      <th>venue</th>\n",
       "      <th>team1</th>\n",
       "      <th>team2</th>\n",
       "      <th>toss_winner</th>\n",
       "      <th>...</th>\n",
       "      <th>result</th>\n",
       "      <th>result_margin</th>\n",
       "      <th>target_runs</th>\n",
       "      <th>target_overs</th>\n",
       "      <th>super_over</th>\n",
       "      <th>method</th>\n",
       "      <th>umpire1</th>\n",
       "      <th>umpire2</th>\n",
       "      <th>team1_runs</th>\n",
       "      <th>team2_runs</th>\n",
       "    </tr>\n",
       "  </thead>\n",
       "  <tbody>\n",
       "    <tr>\n",
       "      <th>0</th>\n",
       "      <td>335982</td>\n",
       "      <td>2007/08</td>\n",
       "      <td>Bangalore</td>\n",
       "      <td>2008-04-18</td>\n",
       "      <td>League</td>\n",
       "      <td>BB McCullum</td>\n",
       "      <td>M Chinnaswamy Stadium</td>\n",
       "      <td>Royal Challengers Bangalore</td>\n",
       "      <td>Kolkata Knight Riders</td>\n",
       "      <td>Royal Challengers Bangalore</td>\n",
       "      <td>...</td>\n",
       "      <td>runs</td>\n",
       "      <td>140.0</td>\n",
       "      <td>223.0</td>\n",
       "      <td>20.0</td>\n",
       "      <td>N</td>\n",
       "      <td>NaN</td>\n",
       "      <td>Asad Rauf</td>\n",
       "      <td>RE Koertzen</td>\n",
       "      <td>222</td>\n",
       "      <td>82</td>\n",
       "    </tr>\n",
       "    <tr>\n",
       "      <th>1</th>\n",
       "      <td>335983</td>\n",
       "      <td>2007/08</td>\n",
       "      <td>Chandigarh</td>\n",
       "      <td>2008-04-19</td>\n",
       "      <td>League</td>\n",
       "      <td>MEK Hussey</td>\n",
       "      <td>Punjab Cricket Association Stadium, Mohali</td>\n",
       "      <td>Kings XI Punjab</td>\n",
       "      <td>Chennai Super Kings</td>\n",
       "      <td>Chennai Super Kings</td>\n",
       "      <td>...</td>\n",
       "      <td>runs</td>\n",
       "      <td>33.0</td>\n",
       "      <td>241.0</td>\n",
       "      <td>20.0</td>\n",
       "      <td>N</td>\n",
       "      <td>NaN</td>\n",
       "      <td>MR Benson</td>\n",
       "      <td>SL Shastri</td>\n",
       "      <td>240</td>\n",
       "      <td>207</td>\n",
       "    </tr>\n",
       "    <tr>\n",
       "      <th>2</th>\n",
       "      <td>335984</td>\n",
       "      <td>2007/08</td>\n",
       "      <td>Delhi</td>\n",
       "      <td>2008-04-19</td>\n",
       "      <td>League</td>\n",
       "      <td>MF Maharoof</td>\n",
       "      <td>Feroz Shah Kotla</td>\n",
       "      <td>Delhi Daredevils</td>\n",
       "      <td>Rajasthan Royals</td>\n",
       "      <td>Rajasthan Royals</td>\n",
       "      <td>...</td>\n",
       "      <td>wickets</td>\n",
       "      <td>-3.0</td>\n",
       "      <td>130.0</td>\n",
       "      <td>20.0</td>\n",
       "      <td>N</td>\n",
       "      <td>NaN</td>\n",
       "      <td>Aleem Dar</td>\n",
       "      <td>GA Pratapkumar</td>\n",
       "      <td>129</td>\n",
       "      <td>132</td>\n",
       "    </tr>\n",
       "    <tr>\n",
       "      <th>3</th>\n",
       "      <td>335985</td>\n",
       "      <td>2007/08</td>\n",
       "      <td>Mumbai</td>\n",
       "      <td>2008-04-20</td>\n",
       "      <td>League</td>\n",
       "      <td>MV Boucher</td>\n",
       "      <td>Wankhede Stadium</td>\n",
       "      <td>Mumbai Indians</td>\n",
       "      <td>Royal Challengers Bangalore</td>\n",
       "      <td>Mumbai Indians</td>\n",
       "      <td>...</td>\n",
       "      <td>wickets</td>\n",
       "      <td>-1.0</td>\n",
       "      <td>166.0</td>\n",
       "      <td>20.0</td>\n",
       "      <td>N</td>\n",
       "      <td>NaN</td>\n",
       "      <td>SJ Davis</td>\n",
       "      <td>DJ Harper</td>\n",
       "      <td>165</td>\n",
       "      <td>166</td>\n",
       "    </tr>\n",
       "    <tr>\n",
       "      <th>4</th>\n",
       "      <td>335986</td>\n",
       "      <td>2007/08</td>\n",
       "      <td>Kolkata</td>\n",
       "      <td>2008-04-20</td>\n",
       "      <td>League</td>\n",
       "      <td>DJ Hussey</td>\n",
       "      <td>Eden Gardens</td>\n",
       "      <td>Kolkata Knight Riders</td>\n",
       "      <td>Deccan Chargers</td>\n",
       "      <td>Deccan Chargers</td>\n",
       "      <td>...</td>\n",
       "      <td>wickets</td>\n",
       "      <td>-2.0</td>\n",
       "      <td>111.0</td>\n",
       "      <td>20.0</td>\n",
       "      <td>N</td>\n",
       "      <td>NaN</td>\n",
       "      <td>BF Bowden</td>\n",
       "      <td>K Hariharan</td>\n",
       "      <td>110</td>\n",
       "      <td>112</td>\n",
       "    </tr>\n",
       "  </tbody>\n",
       "</table>\n",
       "<p>5 rows × 22 columns</p>\n",
       "</div>"
      ],
      "text/plain": [
       "       id   season        city        date match_type player_of_match  \\\n",
       "0  335982  2007/08   Bangalore  2008-04-18     League     BB McCullum   \n",
       "1  335983  2007/08  Chandigarh  2008-04-19     League      MEK Hussey   \n",
       "2  335984  2007/08       Delhi  2008-04-19     League     MF Maharoof   \n",
       "3  335985  2007/08      Mumbai  2008-04-20     League      MV Boucher   \n",
       "4  335986  2007/08     Kolkata  2008-04-20     League       DJ Hussey   \n",
       "\n",
       "                                        venue                        team1  \\\n",
       "0                       M Chinnaswamy Stadium  Royal Challengers Bangalore   \n",
       "1  Punjab Cricket Association Stadium, Mohali              Kings XI Punjab   \n",
       "2                            Feroz Shah Kotla             Delhi Daredevils   \n",
       "3                            Wankhede Stadium               Mumbai Indians   \n",
       "4                                Eden Gardens        Kolkata Knight Riders   \n",
       "\n",
       "                         team2                  toss_winner  ...   result  \\\n",
       "0        Kolkata Knight Riders  Royal Challengers Bangalore  ...     runs   \n",
       "1          Chennai Super Kings          Chennai Super Kings  ...     runs   \n",
       "2             Rajasthan Royals             Rajasthan Royals  ...  wickets   \n",
       "3  Royal Challengers Bangalore               Mumbai Indians  ...  wickets   \n",
       "4              Deccan Chargers              Deccan Chargers  ...  wickets   \n",
       "\n",
       "  result_margin target_runs  target_overs  super_over  method    umpire1  \\\n",
       "0         140.0       223.0          20.0           N     NaN  Asad Rauf   \n",
       "1          33.0       241.0          20.0           N     NaN  MR Benson   \n",
       "2          -3.0       130.0          20.0           N     NaN  Aleem Dar   \n",
       "3          -1.0       166.0          20.0           N     NaN   SJ Davis   \n",
       "4          -2.0       111.0          20.0           N     NaN  BF Bowden   \n",
       "\n",
       "          umpire2 team1_runs team2_runs  \n",
       "0     RE Koertzen        222         82  \n",
       "1      SL Shastri        240        207  \n",
       "2  GA Pratapkumar        129        132  \n",
       "3       DJ Harper        165        166  \n",
       "4     K Hariharan        110        112  \n",
       "\n",
       "[5 rows x 22 columns]"
      ]
     },
     "execution_count": 229,
     "metadata": {},
     "output_type": "execute_result"
    }
   ],
   "source": [
    "matches.head()"
   ]
  },
  {
   "cell_type": "code",
   "execution_count": 230,
   "id": "fc01e365-1254-49dd-a07f-1bf5429013ce",
   "metadata": {},
   "outputs": [
    {
     "data": {
      "text/plain": [
       "array(['2007/08', '2009', '2009/10', '2011', '2012', '2013', '2014',\n",
       "       '2015', '2016', '2017', '2018', '2019', '2020/21', '2021', '2022',\n",
       "       '2023', '2024'], dtype=object)"
      ]
     },
     "execution_count": 230,
     "metadata": {},
     "output_type": "execute_result"
    }
   ],
   "source": [
    "matches['season'].unique()"
   ]
  },
  {
   "cell_type": "code",
   "execution_count": 231,
   "id": "0a97d476-d332-4e9a-9c11-c4e2e8744035",
   "metadata": {},
   "outputs": [],
   "source": [
    "matches['season'] = matches['season'].replace({'2007/08':'2008','2009/10':'2010','2020/21':'2020'})"
   ]
  },
  {
   "cell_type": "code",
   "execution_count": 232,
   "id": "d96cf7f9-b27f-4cf1-8400-d6b5480749b3",
   "metadata": {},
   "outputs": [
    {
     "data": {
      "text/plain": [
       "array(['2008', '2009', '2010', '2011', '2012', '2013', '2014', '2015',\n",
       "       '2016', '2017', '2018', '2019', '2020', '2021', '2022', '2023',\n",
       "       '2024'], dtype=object)"
      ]
     },
     "execution_count": 232,
     "metadata": {},
     "output_type": "execute_result"
    }
   ],
   "source": [
    "matches['season'].unique()"
   ]
  },
  {
   "cell_type": "code",
   "execution_count": null,
   "id": "5288492e-2616-4112-bfb0-d2356fcc090e",
   "metadata": {},
   "outputs": [],
   "source": []
  }
 ],
 "metadata": {
  "kernelspec": {
   "display_name": "Python 3 (ipykernel)",
   "language": "python",
   "name": "python3"
  },
  "language_info": {
   "codemirror_mode": {
    "name": "ipython",
    "version": 3
   },
   "file_extension": ".py",
   "mimetype": "text/x-python",
   "name": "python",
   "nbconvert_exporter": "python",
   "pygments_lexer": "ipython3",
   "version": "3.12.7"
  }
 },
 "nbformat": 4,
 "nbformat_minor": 5
}
